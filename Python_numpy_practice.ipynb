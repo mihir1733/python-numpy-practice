{
  "nbformat": 4,
  "nbformat_minor": 0,
  "metadata": {
    "colab": {
      "provenance": []
    },
    "kernelspec": {
      "name": "python3",
      "display_name": "Python 3"
    },
    "language_info": {
      "name": "python"
    }
  },
  "cells": [
    {
      "cell_type": "code",
      "execution_count": null,
      "metadata": {
        "colab": {
          "base_uri": "https://localhost:8080/"
        },
        "id": "NjZtGOgZGuYE",
        "outputId": "8afa1fcb-b732-4876-b91f-2580f0f2d6c5"
      },
      "outputs": [
        {
          "output_type": "stream",
          "name": "stdout",
          "text": [
            "[ 1  2  3  4  5  6  7  8  9 10]\n",
            "[[ 1  2  3  4]\n",
            " [ 5  6  7  8]\n",
            " [11 22 33 44]]\n",
            "<class 'numpy.ndarray'>\n",
            "<class 'numpy.ndarray'>\n"
          ]
        }
      ],
      "source": [
        "#single dimensional arrays in numpy\n",
        "import numpy as np\n",
        "n1 = np.array([1,2,3,4,5,6,7,8,9,10])\n",
        "print(n1)\n",
        "\n",
        "#multi dimensional arrays in numpy\n",
        "\n",
        "n2 = np.array([   [1,2,3,4],\n",
        "                  [5,6,7,8],\n",
        "              [11,22,33,44]  ])\n",
        "print(n2)\n",
        "\n",
        "\n",
        "#type of array\n",
        "print(type(n1))\n",
        "print(type(n2))"
      ]
    },
    {
      "cell_type": "code",
      "source": [
        "#initializing numpy arrays with zeros \n",
        "\n",
        "import numpy as np\n",
        "\n",
        "n1 = np.zeros((1,2))\n",
        "print(n1)\n",
        "\n",
        "n2 = np.zeros((5,5))\n",
        "print(n2)"
      ],
      "metadata": {
        "colab": {
          "base_uri": "https://localhost:8080/"
        },
        "id": "MP0B_pF7I3hx",
        "outputId": "a73076b3-9790-4e38-c4f9-4dee42a88526"
      },
      "execution_count": null,
      "outputs": [
        {
          "output_type": "stream",
          "name": "stdout",
          "text": [
            "[[0. 0.]]\n",
            "[[0. 0. 0. 0. 0.]\n",
            " [0. 0. 0. 0. 0.]\n",
            " [0. 0. 0. 0. 0.]\n",
            " [0. 0. 0. 0. 0.]\n",
            " [0. 0. 0. 0. 0.]]\n"
          ]
        }
      ]
    },
    {
      "cell_type": "code",
      "source": [
        "#initializing numpy arrays with same number\n",
        "\n",
        "import numpy as np\n",
        "\n",
        "n1 = np.full((2,2),10)\n",
        "print(n1)"
      ],
      "metadata": {
        "colab": {
          "base_uri": "https://localhost:8080/"
        },
        "id": "d-f9k1FGJ7XA",
        "outputId": "02e4b7c0-6be1-40a5-fb85-b4e8535d5f70"
      },
      "execution_count": null,
      "outputs": [
        {
          "output_type": "stream",
          "name": "stdout",
          "text": [
            "[[10 10]\n",
            " [10 10]]\n"
          ]
        }
      ]
    },
    {
      "cell_type": "code",
      "source": [
        "#initializing numpy arrays with in a range\n",
        "\n",
        "import numpy as np\n",
        "\n",
        "n1 = np.arange(10,20)\n",
        "print(n1)\n",
        "\n",
        "n2 = np.arange(10,100,5)\n",
        "print(n2)"
      ],
      "metadata": {
        "colab": {
          "base_uri": "https://localhost:8080/"
        },
        "id": "Pty8qs3nKU_1",
        "outputId": "464cec7b-46fd-48f6-b39f-6b1bc15f3a13"
      },
      "execution_count": null,
      "outputs": [
        {
          "output_type": "stream",
          "name": "stdout",
          "text": [
            "[10 11 12 13 14 15 16 17 18 19]\n",
            "[10 15 20 25 30 35 40 45 50 55 60 65 70 75 80 85 90 95]\n"
          ]
        }
      ]
    },
    {
      "cell_type": "code",
      "source": [
        "#initializing numpy arrays with random numbers\n",
        "\n",
        "import numpy as np\n",
        "\n",
        "n1 = np.random.randint(1,100,10)\n",
        "print(n1)"
      ],
      "metadata": {
        "colab": {
          "base_uri": "https://localhost:8080/"
        },
        "id": "ylkLODBsK4y4",
        "outputId": "af8598f5-61e7-455b-fd15-4df0934cd28e"
      },
      "execution_count": null,
      "outputs": [
        {
          "output_type": "stream",
          "name": "stdout",
          "text": [
            "[73 88 93 73 85 87 51 40 99 50]\n"
          ]
        }
      ]
    },
    {
      "cell_type": "code",
      "source": [
        "#checking shape of numpy arrays\n",
        "\n",
        "import numpy as np\n",
        "\n",
        "n1 = np.array([[1,2,3,4,5],[9,8,7,4,2]])\n",
        "print(n1)\n",
        "print(n1.shape)\n",
        "\n",
        "#changing shape of numpy array\n",
        "n1.shape = (5,2)\n",
        "print(n1)\n",
        "print(n1.shape)\n",
        "\n",
        "n1.shape = (1,10)\n",
        "print(n1)\n",
        "print(n1.shape)\n",
        "\n",
        "n1.shape = (10,1)\n",
        "print(n1)\n",
        "print(n1.shape)"
      ],
      "metadata": {
        "colab": {
          "base_uri": "https://localhost:8080/"
        },
        "id": "odEpJwK3LX0K",
        "outputId": "750e45dc-eb00-43ae-e965-0bf6d8a46bab"
      },
      "execution_count": null,
      "outputs": [
        {
          "output_type": "stream",
          "name": "stdout",
          "text": [
            "[[1 2 3 4 5]\n",
            " [9 8 7 4 2]]\n",
            "(2, 5)\n",
            "[[1 2]\n",
            " [3 4]\n",
            " [5 9]\n",
            " [8 7]\n",
            " [4 2]]\n",
            "(5, 2)\n",
            "[[1 2 3 4 5 9 8 7 4 2]]\n",
            "(1, 10)\n",
            "[[1]\n",
            " [2]\n",
            " [3]\n",
            " [4]\n",
            " [5]\n",
            " [9]\n",
            " [8]\n",
            " [7]\n",
            " [4]\n",
            " [2]]\n",
            "(10, 1)\n"
          ]
        }
      ]
    },
    {
      "cell_type": "code",
      "source": [
        "#joining numpy arrays\n",
        "\n",
        "import numpy as np\n",
        "n1 = np.array([10,20,30])\n",
        "n2 = np.array([60,70,80])\n",
        "print(np.vstack((n1,n2)))\n",
        "\n",
        "import numpy as np\n",
        "n1 = np.array([10,20,30])\n",
        "n2 = np.array([60,70,80])\n",
        "print(np.hstack((n1,n2)))\n",
        "\n",
        "import numpy as np\n",
        "n1 = np.array([10,20,30])\n",
        "n2 = np.array([60,70,80])\n",
        "print(np.column_stack((n1,n2)))"
      ],
      "metadata": {
        "colab": {
          "base_uri": "https://localhost:8080/"
        },
        "id": "uzray-RXMU3f",
        "outputId": "710b4986-1372-49b8-8e41-b89b7d737d34"
      },
      "execution_count": null,
      "outputs": [
        {
          "output_type": "stream",
          "name": "stdout",
          "text": [
            "[[10 20 30]\n",
            " [60 70 80]]\n",
            "[10 20 30 60 70 80]\n",
            "[[10 60]\n",
            " [20 70]\n",
            " [30 80]]\n"
          ]
        }
      ]
    },
    {
      "cell_type": "code",
      "source": [
        "#numpy intersection and difference\n",
        "\n",
        "import numpy as np\n",
        "n1 = np.array([10,20,30,40,50,60])\n",
        "n2 = np.array([50,60,70,80,90,100])\n",
        "\n",
        "print(np.intersect1d(n1,n2))\n",
        "\n",
        "print(np.setdiff1d(n1,n2))\n",
        "\n",
        "print(np.setdiff1d(n2,n1))"
      ],
      "metadata": {
        "colab": {
          "base_uri": "https://localhost:8080/"
        },
        "id": "GRVv-2GuNjh-",
        "outputId": "9478f8c4-d1b8-42ea-c085-76c621abdf8e"
      },
      "execution_count": null,
      "outputs": [
        {
          "output_type": "stream",
          "name": "stdout",
          "text": [
            "[50 60]\n",
            "[10 20 30 40]\n",
            "[ 70  80  90 100]\n"
          ]
        }
      ]
    },
    {
      "cell_type": "code",
      "source": [
        "#adding of numpy arrays\n",
        "\n",
        "import numpy as np\n",
        "n1 = np.array([[10,20,30,40],\n",
        "               [50,60,70,80]])\n",
        "print(np.sum(n1))\n",
        "\n",
        "print(np.sum(n1,axis=0))\n",
        "\n",
        "print(np.sum(n1,axis=1))\n"
      ],
      "metadata": {
        "colab": {
          "base_uri": "https://localhost:8080/"
        },
        "id": "whs8vNXDO_hp",
        "outputId": "3b0acb37-f709-4598-860d-bfc464dcfeea"
      },
      "execution_count": null,
      "outputs": [
        {
          "output_type": "stream",
          "name": "stdout",
          "text": [
            "360\n",
            "[ 60  80 100 120]\n",
            "[100 260]\n"
          ]
        }
      ]
    },
    {
      "cell_type": "code",
      "source": [
        "#scalar operations in numpy arrays\n",
        "\n",
        "import numpy as np\n",
        "\n",
        "n1 = np.array([10,20,30])\n",
        "n1 = n1 + 1\n",
        "print(n1)\n",
        "\n",
        "n2 = np.array([10,20,30])\n",
        "n2 = n2 - 1\n",
        "print(n2)\n",
        "\n",
        "n3 = np.array([10,20,30])\n",
        "n3 = n3 * 2\n",
        "print(n3)\n",
        "\n",
        "n4 = np.array([10,20,30])\n",
        "n4 = n4 / 5\n",
        "print(n4)\n"
      ],
      "metadata": {
        "colab": {
          "base_uri": "https://localhost:8080/"
        },
        "id": "bVM2kbZwPvzy",
        "outputId": "4d9ebb91-e2f7-4150-e463-9867ae7f7eb5"
      },
      "execution_count": null,
      "outputs": [
        {
          "output_type": "stream",
          "name": "stdout",
          "text": [
            "[11 21 31]\n",
            "[ 9 19 29]\n",
            "[20 40 60]\n",
            "[2. 4. 6.]\n"
          ]
        }
      ]
    },
    {
      "cell_type": "code",
      "source": [
        "#numpy math functions\n",
        "\n",
        "import numpy as np\n",
        "n1 = np.array([10,20,30,40,50,60])\n",
        "print(np.mean(n1))\n",
        "\n",
        "print(np.std(n1))\n",
        "\n",
        "print(np.median(n1))"
      ],
      "metadata": {
        "colab": {
          "base_uri": "https://localhost:8080/"
        },
        "id": "oi6bTlbOQurX",
        "outputId": "a5856a78-1877-4645-e68a-c0e77315993f"
      },
      "execution_count": null,
      "outputs": [
        {
          "output_type": "stream",
          "name": "stdout",
          "text": [
            "35.0\n",
            "17.07825127659933\n",
            "35.0\n"
          ]
        }
      ]
    },
    {
      "cell_type": "code",
      "source": [
        "#How to save and load the numpy array\n",
        "\n",
        "import numpy as np\n",
        "n1 = np.array([10,20,30,40,50,60])\n",
        "np.save('my_array',n1)\n",
        "\n",
        "n2 = np.load('my_array.npy')\n",
        "print(n2)"
      ],
      "metadata": {
        "colab": {
          "base_uri": "https://localhost:8080/"
        },
        "id": "LxX8-ciIRWV3",
        "outputId": "fa6cb39b-3c8c-4351-f931-9487e1642742"
      },
      "execution_count": null,
      "outputs": [
        {
          "output_type": "stream",
          "name": "stdout",
          "text": [
            "[10 20 30 40 50 60]\n"
          ]
        }
      ]
    }
  ]
}